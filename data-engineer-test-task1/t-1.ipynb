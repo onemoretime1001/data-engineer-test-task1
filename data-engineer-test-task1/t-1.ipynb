{
 "cells": [
  {
   "cell_type": "code",
   "execution_count": 3,
   "id": "89bc4ba8-6a8c-478d-944a-4c21db6f9507",
   "metadata": {},
   "outputs": [
    {
     "name": "stdout",
     "output_type": "stream",
     "text": [
      "Requirement already satisfied: faker in c:\\users\\denki\\appdata\\local\\packages\\pythonsoftwarefoundation.python.3.11_qbz5n2kfra8p0\\localcache\\local-packages\\python311\\site-packages (25.5.0)Note: you may need to restart the kernel to use updated packages.\n",
      "\n",
      "Requirement already satisfied: numpy in c:\\users\\denki\\appdata\\local\\packages\\pythonsoftwarefoundation.python.3.11_qbz5n2kfra8p0\\localcache\\local-packages\\python311\\site-packages (1.26.4)\n",
      "Requirement already satisfied: python-dateutil>=2.4 in c:\\users\\denki\\appdata\\local\\packages\\pythonsoftwarefoundation.python.3.11_qbz5n2kfra8p0\\localcache\\local-packages\\python311\\site-packages (from faker) (2.9.0.post0)\n",
      "Requirement already satisfied: six>=1.5 in c:\\users\\denki\\appdata\\local\\packages\\pythonsoftwarefoundation.python.3.11_qbz5n2kfra8p0\\localcache\\local-packages\\python311\\site-packages (from python-dateutil>=2.4->faker) (1.16.0)\n"
     ]
    }
   ],
   "source": [
    "pip install faker \n",
    "pip install numpy"
   ]
  },
  {
   "cell_type": "code",
   "execution_count": 2,
   "id": "117860e1-0064-4004-98eb-9b5f587a0b0c",
   "metadata": {},
   "outputs": [
    {
     "name": "stdout",
     "output_type": "stream",
     "text": [
      "Датасет сохранен в generated_dataset.csv\n"
     ]
    }
   ],
   "source": [
    "import pandas as pd\n",
    "import numpy as np\n",
    "from faker import Faker\n",
    "import random\n",
    "\n",
    "# Инициализация Faker\n",
    "fake = Faker()\n",
    "\n",
    "# Параметры датасета\n",
    "num_records = (\n",
    "    10000000  # Количество записей, при необходимости уменьшить до разумного размера\n",
    ")\n",
    "duplicate_percentage = 0.1  # Процент дубликатов\n",
    "num_duplicates = int(num_records * duplicate_percentage)\n",
    "\n",
    "# Генерация данных\n",
    "data = {\n",
    "    \"numeric\": [random.randint(1, 100) for _ in range(num_records)],\n",
    "    \"datetime\": [\n",
    "        fake.date_time_between(start_date=\"-5y\", end_date=\"now\")\n",
    "        for _ in range(num_records)\n",
    "    ],\n",
    "    \"string_no_digits\": [fake.word() for _ in range(num_records)],\n",
    "    \"empty_or_na\": [\n",
    "        None if random.random() < 0.1 else fake.word() for _ in range(num_records)\n",
    "    ],\n",
    "}\n",
    "\n",
    "# Создание DataFrame\n",
    "df = pd.DataFrame(data)\n",
    "\n",
    "# Добавление дубликатов\n",
    "duplicates = df.sample(num_duplicates)\n",
    "df = pd.concat([df, duplicates], ignore_index=True)\n",
    "\n",
    "# Перемешивание строк\n",
    "df = df.sample(frac=1).reset_index(drop=True)\n",
    "\n",
    "# Сохранение в CSV\n",
    "output_file = \"generated_dataset.csv\"\n",
    "df.to_csv(output_file, index=False)\n",
    "\n",
    "print(f\"Датасет сохранен в {output_file}\")\n"
   ]
  }
 ],
 "metadata": {
  "kernelspec": {
   "display_name": "Python 3 (ipykernel)",
   "language": "python",
   "name": "python3"
  },
  "language_info": {
   "codemirror_mode": {
    "name": "ipython",
    "version": 3
   },
   "file_extension": ".py",
   "mimetype": "text/x-python",
   "name": "python",
   "nbconvert_exporter": "python",
   "pygments_lexer": "ipython3",
   "version": "3.11.9"
  }
 },
 "nbformat": 4,
 "nbformat_minor": 5
}
