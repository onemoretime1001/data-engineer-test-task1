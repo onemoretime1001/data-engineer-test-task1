{
 "cells": [
  {
   "cell_type": "code",
   "execution_count": 2,
   "id": "d0a3a766-cfde-4da9-91c0-9c094fbb5313",
   "metadata": {},
   "outputs": [
    {
     "name": "stdout",
     "output_type": "stream",
     "text": [
      "Вероятность успеха следующего прототипа по частотному методу: 0.0042\n",
      "Вероятность успеха следующего прототипа по Байесовскому методу: 0.0049\n"
     ]
    }
   ],
   "source": [
    "import pandas as pd\n",
    "import scipy.stats as stats\n",
    "\n",
    "# Данные\n",
    "data = {\n",
    "    \"company\": [\"competitor\", \"our_company\"],\n",
    "    \"successful_prototypes\": [5, 0],\n",
    "    \"total_prototypes\": [1000, 201],\n",
    "}\n",
    "\n",
    "# Создаем DataFrame\n",
    "df = pd.DataFrame(data)\n",
    "\n",
    "\n",
    "# 1. Частотный метод\n",
    "def frequentist_method(df):\n",
    "    total_success = df[\"successful_prototypes\"].sum()\n",
    "    total_prototypes = df[\"total_prototypes\"].sum()\n",
    "    success_probability = total_success / total_prototypes\n",
    "    return success_probability\n",
    "\n",
    "\n",
    "# 2. Байесовский метод\n",
    "def bayesian_method(df):\n",
    "    # Параметры априорного Beta распределения\n",
    "    alpha_prior = 1\n",
    "    beta_prior = 1\n",
    "\n",
    "    # Обновляем параметры на основе наших данных\n",
    "    alpha_posterior = (\n",
    "        alpha_prior\n",
    "        + df.loc[df[\"company\"] == \"our_company\", \"successful_prototypes\"].values[0]\n",
    "    )\n",
    "    beta_posterior = (\n",
    "        beta_prior\n",
    "        + df.loc[df[\"company\"] == \"our_company\", \"total_prototypes\"].values[0]\n",
    "        - df.loc[df[\"company\"] == \"our_company\", \"successful_prototypes\"].values[0]\n",
    "    )\n",
    "\n",
    "    # Вычисление вероятности успеха следующего прототипа\n",
    "    mean_posterior = stats.beta.mean(alpha_posterior, beta_posterior)\n",
    "    return mean_posterior\n",
    "\n",
    "\n",
    "# Рассчитаем вероятность успеха для обоих методов\n",
    "frequentist_probability = frequentist_method(df)\n",
    "bayesian_probability = bayesian_method(df)\n",
    "\n",
    "print(\n",
    "    f\"Вероятность успеха следующего прототипа по частотному методу: {frequentist_probability:.4f}\"\n",
    ")\n",
    "print(\n",
    "    f\"Вероятность успеха следующего прототипа по Байесовскому методу: {bayesian_probability:.4f}\"\n",
    ")\n"
   ]
  }
 ],
 "metadata": {
  "kernelspec": {
   "display_name": "Python 3 (ipykernel)",
   "language": "python",
   "name": "python3"
  },
  "language_info": {
   "codemirror_mode": {
    "name": "ipython",
    "version": 3
   },
   "file_extension": ".py",
   "mimetype": "text/x-python",
   "name": "python",
   "nbconvert_exporter": "python",
   "pygments_lexer": "ipython3",
   "version": "3.11.7"
  }
 },
 "nbformat": 4,
 "nbformat_minor": 5
}
